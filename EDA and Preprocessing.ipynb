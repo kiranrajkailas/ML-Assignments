{
 "cells": [
  {
   "cell_type": "code",
   "execution_count": 1,
   "id": "081f44ea-4c8c-41ac-a07e-b85056a5f9dd",
   "metadata": {},
   "outputs": [],
   "source": [
    "import pandas as pd\n",
    "import numpy as np\n",
    "import matplotlib.pyplot as plt\n",
    "import seaborn as sns"
   ]
  },
  {
   "cell_type": "code",
   "execution_count": 3,
   "id": "938b0aa1-727a-4d69-9508-f9d4f01ef0bf",
   "metadata": {},
   "outputs": [],
   "source": [
    "df = pd.read_csv(\"Employee.csv\")"
   ]
  },
  {
   "cell_type": "code",
   "execution_count": 5,
   "id": "a48dd02f-4410-4292-b1ee-a7de79c09efb",
   "metadata": {},
   "outputs": [
    {
     "name": "stdout",
     "output_type": "stream",
     "text": [
      "   Company   Age  Salary     Place Country  Gender\n",
      "0      TCS  20.0     NaN   Chennai   India       0\n",
      "1  Infosys  30.0     NaN    Mumbai   India       0\n",
      "2      TCS  35.0  2300.0  Calcutta   India       0\n",
      "3  Infosys  40.0  3000.0     Delhi   India       0\n",
      "4      TCS  23.0  4000.0    Mumbai   India       0\n"
     ]
    }
   ],
   "source": [
    "print(df.head())"
   ]
  },
  {
   "cell_type": "code",
   "execution_count": 8,
   "id": "f8984f10-8bad-4607-bc1a-b3672d081d7c",
   "metadata": {},
   "outputs": [
    {
     "name": "stdout",
     "output_type": "stream",
     "text": [
      "<class 'pandas.core.frame.DataFrame'>\n",
      "RangeIndex: 148 entries, 0 to 147\n",
      "Data columns (total 6 columns):\n",
      " #   Column   Non-Null Count  Dtype  \n",
      "---  ------   --------------  -----  \n",
      " 0   Company  140 non-null    object \n",
      " 1   Age      130 non-null    float64\n",
      " 2   Salary   124 non-null    float64\n",
      " 3   Place    134 non-null    object \n",
      " 4   Country  148 non-null    object \n",
      " 5   Gender   148 non-null    int64  \n",
      "dtypes: float64(2), int64(1), object(3)\n",
      "memory usage: 7.1+ KB\n"
     ]
    }
   ],
   "source": [
    "df.info()"
   ]
  },
  {
   "cell_type": "code",
   "execution_count": 14,
   "id": "c20d613f-3eab-4e04-8fdb-bfa4d4f7df66",
   "metadata": {},
   "outputs": [
    {
     "data": {
      "text/html": [
       "<div>\n",
       "<style scoped>\n",
       "    .dataframe tbody tr th:only-of-type {\n",
       "        vertical-align: middle;\n",
       "    }\n",
       "\n",
       "    .dataframe tbody tr th {\n",
       "        vertical-align: top;\n",
       "    }\n",
       "\n",
       "    .dataframe thead th {\n",
       "        text-align: right;\n",
       "    }\n",
       "</style>\n",
       "<table border=\"1\" class=\"dataframe\">\n",
       "  <thead>\n",
       "    <tr style=\"text-align: right;\">\n",
       "      <th></th>\n",
       "      <th>Company</th>\n",
       "      <th>Age</th>\n",
       "      <th>Salary</th>\n",
       "      <th>Place</th>\n",
       "      <th>Country</th>\n",
       "      <th>Gender</th>\n",
       "    </tr>\n",
       "  </thead>\n",
       "  <tbody>\n",
       "    <tr>\n",
       "      <th>count</th>\n",
       "      <td>140</td>\n",
       "      <td>130.000000</td>\n",
       "      <td>124.000000</td>\n",
       "      <td>134</td>\n",
       "      <td>148</td>\n",
       "      <td>148.000000</td>\n",
       "    </tr>\n",
       "    <tr>\n",
       "      <th>unique</th>\n",
       "      <td>6</td>\n",
       "      <td>NaN</td>\n",
       "      <td>NaN</td>\n",
       "      <td>11</td>\n",
       "      <td>1</td>\n",
       "      <td>NaN</td>\n",
       "    </tr>\n",
       "    <tr>\n",
       "      <th>top</th>\n",
       "      <td>TCS</td>\n",
       "      <td>NaN</td>\n",
       "      <td>NaN</td>\n",
       "      <td>Mumbai</td>\n",
       "      <td>India</td>\n",
       "      <td>NaN</td>\n",
       "    </tr>\n",
       "    <tr>\n",
       "      <th>freq</th>\n",
       "      <td>53</td>\n",
       "      <td>NaN</td>\n",
       "      <td>NaN</td>\n",
       "      <td>37</td>\n",
       "      <td>148</td>\n",
       "      <td>NaN</td>\n",
       "    </tr>\n",
       "    <tr>\n",
       "      <th>mean</th>\n",
       "      <td>NaN</td>\n",
       "      <td>30.484615</td>\n",
       "      <td>5312.467742</td>\n",
       "      <td>NaN</td>\n",
       "      <td>NaN</td>\n",
       "      <td>0.222973</td>\n",
       "    </tr>\n",
       "    <tr>\n",
       "      <th>std</th>\n",
       "      <td>NaN</td>\n",
       "      <td>11.096640</td>\n",
       "      <td>2573.764683</td>\n",
       "      <td>NaN</td>\n",
       "      <td>NaN</td>\n",
       "      <td>0.417654</td>\n",
       "    </tr>\n",
       "    <tr>\n",
       "      <th>min</th>\n",
       "      <td>NaN</td>\n",
       "      <td>0.000000</td>\n",
       "      <td>1089.000000</td>\n",
       "      <td>NaN</td>\n",
       "      <td>NaN</td>\n",
       "      <td>0.000000</td>\n",
       "    </tr>\n",
       "    <tr>\n",
       "      <th>25%</th>\n",
       "      <td>NaN</td>\n",
       "      <td>22.000000</td>\n",
       "      <td>3030.000000</td>\n",
       "      <td>NaN</td>\n",
       "      <td>NaN</td>\n",
       "      <td>0.000000</td>\n",
       "    </tr>\n",
       "    <tr>\n",
       "      <th>50%</th>\n",
       "      <td>NaN</td>\n",
       "      <td>32.500000</td>\n",
       "      <td>5000.000000</td>\n",
       "      <td>NaN</td>\n",
       "      <td>NaN</td>\n",
       "      <td>0.000000</td>\n",
       "    </tr>\n",
       "    <tr>\n",
       "      <th>75%</th>\n",
       "      <td>NaN</td>\n",
       "      <td>37.750000</td>\n",
       "      <td>8000.000000</td>\n",
       "      <td>NaN</td>\n",
       "      <td>NaN</td>\n",
       "      <td>0.000000</td>\n",
       "    </tr>\n",
       "    <tr>\n",
       "      <th>max</th>\n",
       "      <td>NaN</td>\n",
       "      <td>54.000000</td>\n",
       "      <td>9876.000000</td>\n",
       "      <td>NaN</td>\n",
       "      <td>NaN</td>\n",
       "      <td>1.000000</td>\n",
       "    </tr>\n",
       "  </tbody>\n",
       "</table>\n",
       "</div>"
      ],
      "text/plain": [
       "       Company         Age       Salary   Place Country      Gender\n",
       "count      140  130.000000   124.000000     134     148  148.000000\n",
       "unique       6         NaN          NaN      11       1         NaN\n",
       "top        TCS         NaN          NaN  Mumbai   India         NaN\n",
       "freq        53         NaN          NaN      37     148         NaN\n",
       "mean       NaN   30.484615  5312.467742     NaN     NaN    0.222973\n",
       "std        NaN   11.096640  2573.764683     NaN     NaN    0.417654\n",
       "min        NaN    0.000000  1089.000000     NaN     NaN    0.000000\n",
       "25%        NaN   22.000000  3030.000000     NaN     NaN    0.000000\n",
       "50%        NaN   32.500000  5000.000000     NaN     NaN    0.000000\n",
       "75%        NaN   37.750000  8000.000000     NaN     NaN    0.000000\n",
       "max        NaN   54.000000  9876.000000     NaN     NaN    1.000000"
      ]
     },
     "execution_count": 14,
     "metadata": {},
     "output_type": "execute_result"
    }
   ],
   "source": [
    "df.describe(include='all')"
   ]
  },
  {
   "cell_type": "code",
   "execution_count": 16,
   "id": "4292050b-2d20-4a48-89fa-caaed490d34e",
   "metadata": {},
   "outputs": [
    {
     "name": "stdout",
     "output_type": "stream",
     "text": [
      "Company     8\n",
      "Age        18\n",
      "Salary     24\n",
      "Place      14\n",
      "Country     0\n",
      "Gender      0\n",
      "dtype: int64\n"
     ]
    }
   ],
   "source": [
    "print(df.isnull().sum())"
   ]
  },
  {
   "cell_type": "code",
   "execution_count": 24,
   "id": "6b155991-efef-4f3f-9957-cc0a78ac0b09",
   "metadata": {},
   "outputs": [
    {
     "name": "stdout",
     "output_type": "stream",
     "text": [
      "Column: Company\n",
      "Unique Values: ['TCS' 'Infosys' 'CTS' nan 'Tata Consultancy Services' 'Congnizant'\n",
      " 'Infosys Pvt Lmt']\n",
      "Total Unique Count: 7\n",
      "\n",
      "Column: Age\n",
      "Unique Values: [20. 30. 35. 40. 23. nan 34. 45. 18. 22. 32. 37. 50. 21. 46. 36. 26. 41.\n",
      " 24. 25. 43. 19. 38. 51. 31. 44. 33. 17.  0. 54.]\n",
      "Total Unique Count: 30\n",
      "\n",
      "Column: Salary\n",
      "Unique Values: [  nan 2300. 3000. 4000. 5000. 6000. 7000. 8000. 9000. 1089. 1234. 3030.\n",
      " 3045. 3184. 4824. 5835. 7084. 8943. 8345. 9284. 9876. 2034. 7654. 2934.\n",
      " 4034. 5034. 8202. 9024. 4345. 6544. 6543. 3234. 4324. 5435. 5555. 8787.\n",
      " 3454. 5654. 5009. 5098. 3033.]\n",
      "Total Unique Count: 41\n",
      "\n",
      "Column: Place\n",
      "Unique Values: ['Chennai' 'Mumbai' 'Calcutta' 'Delhi' 'Podicherry' 'Cochin' nan 'Noida'\n",
      " 'Hyderabad' 'Bhopal' 'Nagpur' 'Pune']\n",
      "Total Unique Count: 12\n",
      "\n",
      "Column: Country\n",
      "Unique Values: ['India']\n",
      "Total Unique Count: 1\n",
      "\n",
      "Column: Gender\n",
      "Unique Values: [0 1]\n",
      "Total Unique Count: 2\n",
      "\n",
      "Unique Value Counts per Column: {'Company': 7, 'Age': 30, 'Salary': 41, 'Place': 12, 'Country': 1, 'Gender': 2}\n"
     ]
    }
   ],
   "source": [
    "unique_counts = {}\n",
    "for col in df.columns:\n",
    "    unique_values = df[col].unique()\n",
    "    unique_counts[col] = len(unique_values)\n",
    "    print(f\"Column: {col}\")\n",
    "    print(f\"Unique Values: {unique_values}\") \n",
    "    print(f\"Total Unique Count: {len(unique_values)}\\n\")\n",
    "print(\"Unique Value Counts per Column:\", unique_counts)"
   ]
  },
  {
   "cell_type": "code",
   "execution_count": 32,
   "id": "24547753-48ba-4335-b450-3b2b916292ba",
   "metadata": {},
   "outputs": [
    {
     "name": "stdout",
     "output_type": "stream",
     "text": [
      "Renamed Columns: Index(['company_name', 'employee_age', 'employee_salary', 'work_location',\n",
      "       'country', 'gender'],\n",
      "      dtype='object')\n"
     ]
    }
   ],
   "source": [
    "df.rename(columns={\n",
    "    'Company': 'company_name',\n",
    "    'Age': 'employee_age',\n",
    "    'Salary': 'employee_salary',\n",
    "    'Place': 'work_location',\n",
    "    'Country': 'country',\n",
    "    'Gender': 'gender'\n",
    "}, inplace=True)\n",
    "print(\"Renamed Columns:\", df.columns)"
   ]
  },
  {
   "cell_type": "markdown",
   "id": "b51d81cb-1fcb-495b-a849-f45fd1c1c3dc",
   "metadata": {},
   "source": [
    "# Data Cleaning"
   ]
  },
  {
   "cell_type": "code",
   "execution_count": 30,
   "id": "68d17a6f-5adb-42cd-b49e-cf5923a3fc92",
   "metadata": {},
   "outputs": [
    {
     "name": "stdout",
     "output_type": "stream",
     "text": [
      "Missing Values:\n",
      " company_name        8\n",
      "employee_age       18\n",
      "employee_salary    24\n",
      "work_location      14\n",
      "country             0\n",
      "gender              0\n",
      "dtype: int64\n"
     ]
    }
   ],
   "source": [
    "print(\"Missing Values:\\n\", df.isnull().sum())"
   ]
  },
  {
   "cell_type": "code",
   "execution_count": 36,
   "id": "de8d059e-a50a-48a1-86b8-fd228c405007",
   "metadata": {},
   "outputs": [
    {
     "name": "stdout",
     "output_type": "stream",
     "text": [
      "Duplicate Rows: 0\n"
     ]
    }
   ],
   "source": [
    "df.drop_duplicates(inplace=True)\n",
    "print(f\"Duplicate Rows: {df.duplicated().sum()}\")"
   ]
  },
  {
   "cell_type": "code",
   "execution_count": 44,
   "id": "76b15744-113a-4350-8d88-a9c0de0db9ab",
   "metadata": {},
   "outputs": [
    {
     "data": {
      "text/plain": [
       "0      20.0\n",
       "1      30.0\n",
       "2      35.0\n",
       "3      40.0\n",
       "4      23.0\n",
       "       ... \n",
       "142    22.0\n",
       "143    33.0\n",
       "145    44.0\n",
       "146    33.0\n",
       "147    22.0\n",
       "Name: employee_age, Length: 144, dtype: float64"
      ]
     },
     "execution_count": 44,
     "metadata": {},
     "output_type": "execute_result"
    }
   ],
   "source": [
    "df['employee_age'] = df['employee_age'].replace(0, np.nan)\n",
    "df['employee_age'] "
   ]
  },
  {
   "cell_type": "markdown",
   "id": "3a4c0539-3c4c-4b08-a4eb-987dc61821a1",
   "metadata": {},
   "source": [
    "### Age"
   ]
  },
  {
   "cell_type": "code",
   "execution_count": 48,
   "id": "0826e6ae-fb08-454e-b430-f9b27b402872",
   "metadata": {},
   "outputs": [
    {
     "data": {
      "text/plain": [
       "23"
      ]
     },
     "execution_count": 48,
     "metadata": {},
     "output_type": "execute_result"
    }
   ],
   "source": [
    "df['employee_age'].isnull().sum()"
   ]
  },
  {
   "cell_type": "code",
   "execution_count": 54,
   "id": "2384dc83-f2e8-430b-b71e-465fbaa06783",
   "metadata": {},
   "outputs": [],
   "source": [
    "df['employee_age'].fillna(df['employee_age'].median(),inplace=True)"
   ]
  },
  {
   "cell_type": "code",
   "execution_count": 73,
   "id": "76b31c14-6950-4894-aebb-241c3bdd7cc0",
   "metadata": {},
   "outputs": [
    {
     "data": {
      "text/plain": [
       "0"
      ]
     },
     "execution_count": 73,
     "metadata": {},
     "output_type": "execute_result"
    }
   ],
   "source": [
    "df['employee_age'].isnull().sum()"
   ]
  },
  {
   "cell_type": "markdown",
   "id": "1d4fd0e5-c4d9-4dc9-a695-195a2cb9e584",
   "metadata": {},
   "source": [
    "### Company name"
   ]
  },
  {
   "cell_type": "code",
   "execution_count": 58,
   "id": "949023f7-ed8c-4129-8b97-90826e9df40a",
   "metadata": {},
   "outputs": [
    {
     "data": {
      "text/plain": [
       "8"
      ]
     },
     "execution_count": 58,
     "metadata": {},
     "output_type": "execute_result"
    }
   ],
   "source": [
    "df['company_name'].isnull().sum()"
   ]
  },
  {
   "cell_type": "code",
   "execution_count": 62,
   "id": "eff524f4-3b91-4901-9acd-ff6b3b3ff5b6",
   "metadata": {},
   "outputs": [
    {
     "name": "stderr",
     "output_type": "stream",
     "text": [
      "C:\\Users\\user\\AppData\\Local\\Temp\\ipykernel_29016\\2920000871.py:1: FutureWarning: A value is trying to be set on a copy of a DataFrame or Series through chained assignment using an inplace method.\n",
      "The behavior will change in pandas 3.0. This inplace method will never work because the intermediate object on which we are setting values always behaves as a copy.\n",
      "\n",
      "For example, when doing 'df[col].method(value, inplace=True)', try using 'df.method({col: value}, inplace=True)' or df[col] = df[col].method(value) instead, to perform the operation inplace on the original object.\n",
      "\n",
      "\n",
      "  df['company_name'].fillna(\"Unknown\", inplace=True)\n"
     ]
    }
   ],
   "source": [
    "df['company_name'].fillna(\"Unknown\", inplace=True)"
   ]
  },
  {
   "cell_type": "code",
   "execution_count": 64,
   "id": "490bdc61-0cf2-4aff-a521-b63f5f52ccb8",
   "metadata": {},
   "outputs": [
    {
     "data": {
      "text/plain": [
       "0"
      ]
     },
     "execution_count": 64,
     "metadata": {},
     "output_type": "execute_result"
    }
   ],
   "source": [
    "df['company_name'].isnull().sum()"
   ]
  },
  {
   "cell_type": "markdown",
   "id": "fd6625ad-1c48-4497-9c2e-609248b0d73f",
   "metadata": {},
   "source": [
    "### Work location"
   ]
  },
  {
   "cell_type": "code",
   "execution_count": 67,
   "id": "ad33faa4-5376-4b18-894c-c5eb5d82d3c5",
   "metadata": {},
   "outputs": [
    {
     "data": {
      "text/plain": [
       "14"
      ]
     },
     "execution_count": 67,
     "metadata": {},
     "output_type": "execute_result"
    }
   ],
   "source": [
    "df['work_location'].isnull().sum()"
   ]
  },
  {
   "cell_type": "code",
   "execution_count": 69,
   "id": "fdd18a00-da53-483f-8173-c954546cfdae",
   "metadata": {},
   "outputs": [
    {
     "name": "stderr",
     "output_type": "stream",
     "text": [
      "C:\\Users\\user\\AppData\\Local\\Temp\\ipykernel_29016\\948510740.py:1: FutureWarning: A value is trying to be set on a copy of a DataFrame or Series through chained assignment using an inplace method.\n",
      "The behavior will change in pandas 3.0. This inplace method will never work because the intermediate object on which we are setting values always behaves as a copy.\n",
      "\n",
      "For example, when doing 'df[col].method(value, inplace=True)', try using 'df.method({col: value}, inplace=True)' or df[col] = df[col].method(value) instead, to perform the operation inplace on the original object.\n",
      "\n",
      "\n",
      "  df['work_location'].fillna(\"Unknown\", inplace=True)\n"
     ]
    }
   ],
   "source": [
    "df['work_location'].fillna(\"Unknown\", inplace=True)"
   ]
  },
  {
   "cell_type": "code",
   "execution_count": 71,
   "id": "edf5aec2-986c-47de-b695-5855eea1a828",
   "metadata": {},
   "outputs": [
    {
     "data": {
      "text/plain": [
       "0"
      ]
     },
     "execution_count": 71,
     "metadata": {},
     "output_type": "execute_result"
    }
   ],
   "source": [
    "df['work_location'].isnull().sum()"
   ]
  },
  {
   "cell_type": "markdown",
   "id": "1ab85201-35ad-4547-b4d0-91d4b220865e",
   "metadata": {},
   "source": [
    "### Salary"
   ]
  },
  {
   "cell_type": "code",
   "execution_count": 76,
   "id": "03fbdc3d-1a5c-45a9-9c65-fd49bf2cf91e",
   "metadata": {},
   "outputs": [
    {
     "data": {
      "text/plain": [
       "23"
      ]
     },
     "execution_count": 76,
     "metadata": {},
     "output_type": "execute_result"
    }
   ],
   "source": [
    "df['employee_salary'].isnull().sum()"
   ]
  },
  {
   "cell_type": "code",
   "execution_count": 78,
   "id": "8a9f1f4b-2e14-4444-beb2-ec0a152d6031",
   "metadata": {},
   "outputs": [
    {
     "name": "stderr",
     "output_type": "stream",
     "text": [
      "C:\\Users\\user\\AppData\\Local\\Temp\\ipykernel_29016\\3200821923.py:1: FutureWarning: A value is trying to be set on a copy of a DataFrame or Series through chained assignment using an inplace method.\n",
      "The behavior will change in pandas 3.0. This inplace method will never work because the intermediate object on which we are setting values always behaves as a copy.\n",
      "\n",
      "For example, when doing 'df[col].method(value, inplace=True)', try using 'df.method({col: value}, inplace=True)' or df[col] = df[col].method(value) instead, to perform the operation inplace on the original object.\n",
      "\n",
      "\n",
      "  df['employee_salary'].fillna(df['employee_salary'].median(), inplace=True)\n"
     ]
    }
   ],
   "source": [
    "df['employee_salary'].fillna(df['employee_salary'].median(), inplace=True)"
   ]
  },
  {
   "cell_type": "code",
   "execution_count": 80,
   "id": "8781b37d-e53e-4c93-b03b-51e9a363e38e",
   "metadata": {},
   "outputs": [
    {
     "data": {
      "text/plain": [
       "0"
      ]
     },
     "execution_count": 80,
     "metadata": {},
     "output_type": "execute_result"
    }
   ],
   "source": [
    "df['employee_salary'].isnull().sum()"
   ]
  },
  {
   "cell_type": "code",
   "execution_count": 82,
   "id": "d56bd632-b6d9-470b-be0d-07bf740a2c8f",
   "metadata": {},
   "outputs": [
    {
     "data": {
      "text/plain": [
       "company_name       0\n",
       "employee_age       0\n",
       "employee_salary    0\n",
       "work_location      0\n",
       "country            0\n",
       "gender             0\n",
       "dtype: int64"
      ]
     },
     "execution_count": 82,
     "metadata": {},
     "output_type": "execute_result"
    }
   ],
   "source": [
    "df.isnull().sum()"
   ]
  },
  {
   "cell_type": "markdown",
   "id": "3f112b37-2004-4c54-a4ef-81f408f7b765",
   "metadata": {},
   "source": [
    "### Saving the cleaned data"
   ]
  },
  {
   "cell_type": "code",
   "execution_count": 85,
   "id": "0bad83cd-091d-4bb6-a58d-d747bd3cb3e2",
   "metadata": {},
   "outputs": [],
   "source": [
    "df.to_csv(\"Employee_Cleaned.csv\", index=False)"
   ]
  },
  {
   "cell_type": "code",
   "execution_count": 87,
   "id": "62d24ef4-0f7e-4570-9eeb-33ec42e27249",
   "metadata": {},
   "outputs": [
    {
     "data": {
      "text/plain": [
       "company_name       0\n",
       "employee_age       0\n",
       "employee_salary    0\n",
       "work_location      0\n",
       "country            0\n",
       "gender             0\n",
       "dtype: int64"
      ]
     },
     "execution_count": 87,
     "metadata": {},
     "output_type": "execute_result"
    }
   ],
   "source": [
    "df.isnull().sum()"
   ]
  },
  {
   "cell_type": "markdown",
   "id": "80bd27b1-78a4-4f10-90b6-2ae08863e0dd",
   "metadata": {},
   "source": [
    "# Data Analysis"
   ]
  },
  {
   "cell_type": "code",
   "execution_count": 91,
   "id": "02280542-04c4-44ce-a376-d86b970632cf",
   "metadata": {},
   "outputs": [],
   "source": [
    "df = pd.read_csv(\"Employee_Cleaned.csv\")"
   ]
  },
  {
   "cell_type": "code",
   "execution_count": 97,
   "id": "6cafc8a1-ee91-4d1f-bd78-a3267934a0d6",
   "metadata": {},
   "outputs": [
    {
     "name": "stdout",
     "output_type": "stream",
     "text": [
      "    company_name  employee_age  employee_salary work_location country  gender\n",
      "21       Infosys          50.0           3184.0         Delhi   India       0\n",
      "32       Infosys          45.0           4034.0      Calcutta   India       0\n",
      "39       Infosys          41.0           3000.0        Mumbai   India       0\n",
      "50       Infosys          41.0           3000.0       Chennai   India       0\n",
      "57       Infosys          51.0           3184.0     Hyderabad   India       0\n",
      "68       Infosys          43.0           4034.0        Mumbai   India       0\n",
      "75       Infosys          44.0           3000.0        Cochin   India       0\n",
      "85       Infosys          41.0           3000.0         Delhi   India       0\n",
      "92       Infosys          54.0           3184.0        Mumbai   India       0\n",
      "103      Infosys          44.0           4034.0         Delhi   India       0\n",
      "121      Infosys          44.0           3234.0        Mumbai   India       0\n",
      "128      Infosys          50.0           3184.0      Calcutta   India       0\n",
      "135          CTS          44.0           3033.0        Cochin   India       0\n",
      "137      Infosys          44.0           4034.0     Hyderabad   India       0\n",
      "141      Infosys          44.0           4034.0         Delhi   India       1\n"
     ]
    }
   ],
   "source": [
    "filtered_df = df[(df['employee_age'] > 40) & (df['employee_salary'] < 5000)]\n",
    "print(filtered_df)"
   ]
  },
  {
   "cell_type": "code",
   "execution_count": 101,
   "id": "39b8c1b9-8754-4481-9259-735996b104d4",
   "metadata": {},
   "outputs": [
    {
     "data": {
      "text/html": [
       "<div>\n",
       "<style scoped>\n",
       "    .dataframe tbody tr th:only-of-type {\n",
       "        vertical-align: middle;\n",
       "    }\n",
       "\n",
       "    .dataframe tbody tr th {\n",
       "        vertical-align: top;\n",
       "    }\n",
       "\n",
       "    .dataframe thead th {\n",
       "        text-align: right;\n",
       "    }\n",
       "</style>\n",
       "<table border=\"1\" class=\"dataframe\">\n",
       "  <thead>\n",
       "    <tr style=\"text-align: right;\">\n",
       "      <th></th>\n",
       "      <th>company_name</th>\n",
       "      <th>employee_age</th>\n",
       "      <th>employee_salary</th>\n",
       "      <th>work_location</th>\n",
       "      <th>country</th>\n",
       "      <th>gender</th>\n",
       "    </tr>\n",
       "  </thead>\n",
       "  <tbody>\n",
       "    <tr>\n",
       "      <th>0</th>\n",
       "      <td>TCS</td>\n",
       "      <td>20.0</td>\n",
       "      <td>5000.0</td>\n",
       "      <td>Chennai</td>\n",
       "      <td>India</td>\n",
       "      <td>0</td>\n",
       "    </tr>\n",
       "    <tr>\n",
       "      <th>1</th>\n",
       "      <td>Infosys</td>\n",
       "      <td>30.0</td>\n",
       "      <td>5000.0</td>\n",
       "      <td>Mumbai</td>\n",
       "      <td>India</td>\n",
       "      <td>0</td>\n",
       "    </tr>\n",
       "    <tr>\n",
       "      <th>2</th>\n",
       "      <td>TCS</td>\n",
       "      <td>35.0</td>\n",
       "      <td>2300.0</td>\n",
       "      <td>Calcutta</td>\n",
       "      <td>India</td>\n",
       "      <td>0</td>\n",
       "    </tr>\n",
       "    <tr>\n",
       "      <th>3</th>\n",
       "      <td>Infosys</td>\n",
       "      <td>40.0</td>\n",
       "      <td>3000.0</td>\n",
       "      <td>Delhi</td>\n",
       "      <td>India</td>\n",
       "      <td>0</td>\n",
       "    </tr>\n",
       "    <tr>\n",
       "      <th>4</th>\n",
       "      <td>TCS</td>\n",
       "      <td>23.0</td>\n",
       "      <td>4000.0</td>\n",
       "      <td>Mumbai</td>\n",
       "      <td>India</td>\n",
       "      <td>0</td>\n",
       "    </tr>\n",
       "    <tr>\n",
       "      <th>...</th>\n",
       "      <td>...</td>\n",
       "      <td>...</td>\n",
       "      <td>...</td>\n",
       "      <td>...</td>\n",
       "      <td>...</td>\n",
       "      <td>...</td>\n",
       "    </tr>\n",
       "    <tr>\n",
       "      <th>136</th>\n",
       "      <td>Congnizant</td>\n",
       "      <td>22.0</td>\n",
       "      <td>2934.0</td>\n",
       "      <td>Noida</td>\n",
       "      <td>India</td>\n",
       "      <td>0</td>\n",
       "    </tr>\n",
       "    <tr>\n",
       "      <th>137</th>\n",
       "      <td>Infosys</td>\n",
       "      <td>44.0</td>\n",
       "      <td>4034.0</td>\n",
       "      <td>Hyderabad</td>\n",
       "      <td>India</td>\n",
       "      <td>0</td>\n",
       "    </tr>\n",
       "    <tr>\n",
       "      <th>138</th>\n",
       "      <td>TCS</td>\n",
       "      <td>33.0</td>\n",
       "      <td>5034.0</td>\n",
       "      <td>Calcutta</td>\n",
       "      <td>India</td>\n",
       "      <td>0</td>\n",
       "    </tr>\n",
       "    <tr>\n",
       "      <th>139</th>\n",
       "      <td>Infosys Pvt Lmt</td>\n",
       "      <td>22.0</td>\n",
       "      <td>8202.0</td>\n",
       "      <td>Mumbai</td>\n",
       "      <td>India</td>\n",
       "      <td>0</td>\n",
       "    </tr>\n",
       "    <tr>\n",
       "      <th>143</th>\n",
       "      <td>Infosys</td>\n",
       "      <td>22.0</td>\n",
       "      <td>8202.0</td>\n",
       "      <td>Cochin</td>\n",
       "      <td>India</td>\n",
       "      <td>0</td>\n",
       "    </tr>\n",
       "  </tbody>\n",
       "</table>\n",
       "<p>112 rows × 6 columns</p>\n",
       "</div>"
      ],
      "text/plain": [
       "        company_name  employee_age  employee_salary work_location country  \\\n",
       "0                TCS          20.0           5000.0       Chennai   India   \n",
       "1            Infosys          30.0           5000.0        Mumbai   India   \n",
       "2                TCS          35.0           2300.0      Calcutta   India   \n",
       "3            Infosys          40.0           3000.0         Delhi   India   \n",
       "4                TCS          23.0           4000.0        Mumbai   India   \n",
       "..               ...           ...              ...           ...     ...   \n",
       "136       Congnizant          22.0           2934.0         Noida   India   \n",
       "137          Infosys          44.0           4034.0     Hyderabad   India   \n",
       "138              TCS          33.0           5034.0      Calcutta   India   \n",
       "139  Infosys Pvt Lmt          22.0           8202.0        Mumbai   India   \n",
       "143          Infosys          22.0           8202.0        Cochin   India   \n",
       "\n",
       "     gender  \n",
       "0         0  \n",
       "1         0  \n",
       "2         0  \n",
       "3         0  \n",
       "4         0  \n",
       "..      ...  \n",
       "136       0  \n",
       "137       0  \n",
       "138       0  \n",
       "139       0  \n",
       "143       0  \n",
       "\n",
       "[112 rows x 6 columns]"
      ]
     },
     "execution_count": 101,
     "metadata": {},
     "output_type": "execute_result"
    }
   ],
   "source": [
    "df[df['gender'] ==0]"
   ]
  },
  {
   "cell_type": "code",
   "execution_count": 103,
   "id": "670b1171-d174-49e0-8f97-636f718bf5cf",
   "metadata": {},
   "outputs": [
    {
     "data": {
      "text/html": [
       "<div>\n",
       "<style scoped>\n",
       "    .dataframe tbody tr th:only-of-type {\n",
       "        vertical-align: middle;\n",
       "    }\n",
       "\n",
       "    .dataframe tbody tr th {\n",
       "        vertical-align: top;\n",
       "    }\n",
       "\n",
       "    .dataframe thead th {\n",
       "        text-align: right;\n",
       "    }\n",
       "</style>\n",
       "<table border=\"1\" class=\"dataframe\">\n",
       "  <thead>\n",
       "    <tr style=\"text-align: right;\">\n",
       "      <th></th>\n",
       "      <th>employee_age</th>\n",
       "      <th>employee_salary</th>\n",
       "      <th>gender</th>\n",
       "    </tr>\n",
       "  </thead>\n",
       "  <tbody>\n",
       "    <tr>\n",
       "      <th>count</th>\n",
       "      <td>15.000000</td>\n",
       "      <td>15.000000</td>\n",
       "      <td>15.000000</td>\n",
       "    </tr>\n",
       "    <tr>\n",
       "      <th>mean</th>\n",
       "      <td>45.333333</td>\n",
       "      <td>3411.533333</td>\n",
       "      <td>0.066667</td>\n",
       "    </tr>\n",
       "    <tr>\n",
       "      <th>std</th>\n",
       "      <td>3.994043</td>\n",
       "      <td>462.651808</td>\n",
       "      <td>0.258199</td>\n",
       "    </tr>\n",
       "    <tr>\n",
       "      <th>min</th>\n",
       "      <td>41.000000</td>\n",
       "      <td>3000.000000</td>\n",
       "      <td>0.000000</td>\n",
       "    </tr>\n",
       "    <tr>\n",
       "      <th>25%</th>\n",
       "      <td>43.500000</td>\n",
       "      <td>3016.500000</td>\n",
       "      <td>0.000000</td>\n",
       "    </tr>\n",
       "    <tr>\n",
       "      <th>50%</th>\n",
       "      <td>44.000000</td>\n",
       "      <td>3184.000000</td>\n",
       "      <td>0.000000</td>\n",
       "    </tr>\n",
       "    <tr>\n",
       "      <th>75%</th>\n",
       "      <td>47.500000</td>\n",
       "      <td>4034.000000</td>\n",
       "      <td>0.000000</td>\n",
       "    </tr>\n",
       "    <tr>\n",
       "      <th>max</th>\n",
       "      <td>54.000000</td>\n",
       "      <td>4034.000000</td>\n",
       "      <td>1.000000</td>\n",
       "    </tr>\n",
       "  </tbody>\n",
       "</table>\n",
       "</div>"
      ],
      "text/plain": [
       "       employee_age  employee_salary     gender\n",
       "count     15.000000        15.000000  15.000000\n",
       "mean      45.333333      3411.533333   0.066667\n",
       "std        3.994043       462.651808   0.258199\n",
       "min       41.000000      3000.000000   0.000000\n",
       "25%       43.500000      3016.500000   0.000000\n",
       "50%       44.000000      3184.000000   0.000000\n",
       "75%       47.500000      4034.000000   0.000000\n",
       "max       54.000000      4034.000000   1.000000"
      ]
     },
     "execution_count": 103,
     "metadata": {},
     "output_type": "execute_result"
    }
   ],
   "source": [
    "filtered_df.describe()"
   ]
  },
  {
   "cell_type": "code",
   "execution_count": 107,
   "id": "3bee7290-46d4-42ce-a9f1-bcddb673adc2",
   "metadata": {},
   "outputs": [
    {
     "data": {
      "image/png": "[encoded data removed]",
      "text/plain": [
       "<Figure size 800x500 with 1 Axes>"
      ]
     },
     "metadata": {},
     "output_type": "display_data"
    }
   ],
   "source": [
    "plt.figure(figsize=(8,5))\n",
    "sns.lineplot(x=df['employee_age'], y=df['employee_salary'], color='red', marker='o')\n",
    "plt.xlabel(\"Employee Age\")\n",
    "plt.ylabel(\"Employee Salary\")\n",
    "plt.title(\"Salary Trend Across Age\")\n",
    "plt.show()"
   ]
  },
  {
   "cell_type": "code",
   "execution_count": 111,
   "id": "9a3886a6-c095-4bc3-90fd-3623e208ca98",
   "metadata": {},
   "outputs": [
    {
     "name": "stdout",
     "output_type": "stream",
     "text": [
      "work_location\n",
      "Mumbai        34\n",
      "Calcutta      32\n",
      "Chennai       14\n",
      "Delhi         14\n",
      "Unknown       14\n",
      "Cochin        13\n",
      "Noida          8\n",
      "Hyderabad      8\n",
      "Podicherry     3\n",
      "Pune           2\n",
      "Bhopal         1\n",
      "Nagpur         1\n",
      "Name: count, dtype: int64\n"
     ]
    }
   ],
   "source": [
    "place_counts = df['work_location'].value_counts()\n",
    "print(place_counts)"
   ]
  },
  {
   "cell_type": "code",
   "execution_count": 113,
   "id": "5ed36dd8-e6a1-48db-a657-d793c29b907c",
   "metadata": {},
   "outputs": [
    {
     "data": {
      "image/png": "[encoded data removed]",
      "text/plain": [
       "<Figure size 800x800 with 1 Axes>"
      ]
     },
     "metadata": {},
     "output_type": "display_data"
    }
   ],
   "source": [
    "plt.figure(figsize=(8,8))\n",
    "plt.pie(place_counts, labels=place_counts.index, autopct=\"%1.1f%%\", colors=sns.color_palette(\"pastel\"), startangle=140)\n",
    "plt.title(\"Percentage of Employees by Location\")\n",
    "plt.show()"
   ]
  },
  {
   "cell_type": "markdown",
   "id": "d2c575e1-1875-43e6-bb3a-d75ca816d9cb",
   "metadata": {},
   "source": [
    "### Data Encoding"
   ]
  },
  {
   "cell_type": "code",
   "execution_count": 116,
   "id": "e61f99e1-1ed0-48c9-a3f6-c560c20238a2",
   "metadata": {},
   "outputs": [
    {
     "name": "stdout",
     "output_type": "stream",
     "text": [
      "Categorical Columns: Index(['company_name', 'work_location', 'country'], dtype='object')\n"
     ]
    }
   ],
   "source": [
    "categorical_cols = df.select_dtypes(include=['object']).columns\n",
    "print(\"Categorical Columns:\", categorical_cols)"
   ]
  },
  {
   "cell_type": "code",
   "execution_count": 118,
   "id": "3877b318-ed89-42fc-96dd-26f056da81be",
   "metadata": {},
   "outputs": [],
   "source": [
    "df = pd.get_dummies(df, columns=['company_name', 'work_location', 'country'], drop_first=True)"
   ]
  },
  {
   "cell_type": "code",
   "execution_count": 120,
   "id": "88da6152-0e5f-46c6-b1d0-c7115f5a52f1",
   "metadata": {},
   "outputs": [
    {
     "data": {
      "text/html": [
       "<div>\n",
       "<style scoped>\n",
       "    .dataframe tbody tr th:only-of-type {\n",
       "        vertical-align: middle;\n",
       "    }\n",
       "\n",
       "    .dataframe tbody tr th {\n",
       "        vertical-align: top;\n",
       "    }\n",
       "\n",
       "    .dataframe thead th {\n",
       "        text-align: right;\n",
       "    }\n",
       "</style>\n",
       "<table border=\"1\" class=\"dataframe\">\n",
       "  <thead>\n",
       "    <tr style=\"text-align: right;\">\n",
       "      <th></th>\n",
       "      <th>employee_age</th>\n",
       "      <th>employee_salary</th>\n",
       "      <th>gender</th>\n",
       "      <th>company_name_Congnizant</th>\n",
       "      <th>company_name_Infosys</th>\n",
       "      <th>company_name_Infosys Pvt Lmt</th>\n",
       "      <th>company_name_TCS</th>\n",
       "      <th>company_name_Tata Consultancy Services</th>\n",
       "      <th>company_name_Unknown</th>\n",
       "      <th>work_location_Calcutta</th>\n",
       "      <th>work_location_Chennai</th>\n",
       "      <th>work_location_Cochin</th>\n",
       "      <th>work_location_Delhi</th>\n",
       "      <th>work_location_Hyderabad</th>\n",
       "      <th>work_location_Mumbai</th>\n",
       "      <th>work_location_Nagpur</th>\n",
       "      <th>work_location_Noida</th>\n",
       "      <th>work_location_Podicherry</th>\n",
       "      <th>work_location_Pune</th>\n",
       "      <th>work_location_Unknown</th>\n",
       "    </tr>\n",
       "  </thead>\n",
       "  <tbody>\n",
       "    <tr>\n",
       "      <th>0</th>\n",
       "      <td>20.0</td>\n",
       "      <td>5000.0</td>\n",
       "      <td>0</td>\n",
       "      <td>False</td>\n",
       "      <td>False</td>\n",
       "      <td>False</td>\n",
       "      <td>True</td>\n",
       "      <td>False</td>\n",
       "      <td>False</td>\n",
       "      <td>False</td>\n",
       "      <td>True</td>\n",
       "      <td>False</td>\n",
       "      <td>False</td>\n",
       "      <td>False</td>\n",
       "      <td>False</td>\n",
       "      <td>False</td>\n",
       "      <td>False</td>\n",
       "      <td>False</td>\n",
       "      <td>False</td>\n",
       "      <td>False</td>\n",
       "    </tr>\n",
       "    <tr>\n",
       "      <th>1</th>\n",
       "      <td>30.0</td>\n",
       "      <td>5000.0</td>\n",
       "      <td>0</td>\n",
       "      <td>False</td>\n",
       "      <td>True</td>\n",
       "      <td>False</td>\n",
       "      <td>False</td>\n",
       "      <td>False</td>\n",
       "      <td>False</td>\n",
       "      <td>False</td>\n",
       "      <td>False</td>\n",
       "      <td>False</td>\n",
       "      <td>False</td>\n",
       "      <td>False</td>\n",
       "      <td>True</td>\n",
       "      <td>False</td>\n",
       "      <td>False</td>\n",
       "      <td>False</td>\n",
       "      <td>False</td>\n",
       "      <td>False</td>\n",
       "    </tr>\n",
       "    <tr>\n",
       "      <th>2</th>\n",
       "      <td>35.0</td>\n",
       "      <td>2300.0</td>\n",
       "      <td>0</td>\n",
       "      <td>False</td>\n",
       "      <td>False</td>\n",
       "      <td>False</td>\n",
       "      <td>True</td>\n",
       "      <td>False</td>\n",
       "      <td>False</td>\n",
       "      <td>True</td>\n",
       "      <td>False</td>\n",
       "      <td>False</td>\n",
       "      <td>False</td>\n",
       "      <td>False</td>\n",
       "      <td>False</td>\n",
       "      <td>False</td>\n",
       "      <td>False</td>\n",
       "      <td>False</td>\n",
       "      <td>False</td>\n",
       "      <td>False</td>\n",
       "    </tr>\n",
       "    <tr>\n",
       "      <th>3</th>\n",
       "      <td>40.0</td>\n",
       "      <td>3000.0</td>\n",
       "      <td>0</td>\n",
       "      <td>False</td>\n",
       "      <td>True</td>\n",
       "      <td>False</td>\n",
       "      <td>False</td>\n",
       "      <td>False</td>\n",
       "      <td>False</td>\n",
       "      <td>False</td>\n",
       "      <td>False</td>\n",
       "      <td>False</td>\n",
       "      <td>True</td>\n",
       "      <td>False</td>\n",
       "      <td>False</td>\n",
       "      <td>False</td>\n",
       "      <td>False</td>\n",
       "      <td>False</td>\n",
       "      <td>False</td>\n",
       "      <td>False</td>\n",
       "    </tr>\n",
       "    <tr>\n",
       "      <th>4</th>\n",
       "      <td>23.0</td>\n",
       "      <td>4000.0</td>\n",
       "      <td>0</td>\n",
       "      <td>False</td>\n",
       "      <td>False</td>\n",
       "      <td>False</td>\n",
       "      <td>True</td>\n",
       "      <td>False</td>\n",
       "      <td>False</td>\n",
       "      <td>False</td>\n",
       "      <td>False</td>\n",
       "      <td>False</td>\n",
       "      <td>False</td>\n",
       "      <td>False</td>\n",
       "      <td>True</td>\n",
       "      <td>False</td>\n",
       "      <td>False</td>\n",
       "      <td>False</td>\n",
       "      <td>False</td>\n",
       "      <td>False</td>\n",
       "    </tr>\n",
       "    <tr>\n",
       "      <th>...</th>\n",
       "      <td>...</td>\n",
       "      <td>...</td>\n",
       "      <td>...</td>\n",
       "      <td>...</td>\n",
       "      <td>...</td>\n",
       "      <td>...</td>\n",
       "      <td>...</td>\n",
       "      <td>...</td>\n",
       "      <td>...</td>\n",
       "      <td>...</td>\n",
       "      <td>...</td>\n",
       "      <td>...</td>\n",
       "      <td>...</td>\n",
       "      <td>...</td>\n",
       "      <td>...</td>\n",
       "      <td>...</td>\n",
       "      <td>...</td>\n",
       "      <td>...</td>\n",
       "      <td>...</td>\n",
       "      <td>...</td>\n",
       "    </tr>\n",
       "    <tr>\n",
       "      <th>139</th>\n",
       "      <td>22.0</td>\n",
       "      <td>8202.0</td>\n",
       "      <td>0</td>\n",
       "      <td>False</td>\n",
       "      <td>False</td>\n",
       "      <td>True</td>\n",
       "      <td>False</td>\n",
       "      <td>False</td>\n",
       "      <td>False</td>\n",
       "      <td>False</td>\n",
       "      <td>False</td>\n",
       "      <td>False</td>\n",
       "      <td>False</td>\n",
       "      <td>False</td>\n",
       "      <td>True</td>\n",
       "      <td>False</td>\n",
       "      <td>False</td>\n",
       "      <td>False</td>\n",
       "      <td>False</td>\n",
       "      <td>False</td>\n",
       "    </tr>\n",
       "    <tr>\n",
       "      <th>140</th>\n",
       "      <td>33.0</td>\n",
       "      <td>9024.0</td>\n",
       "      <td>1</td>\n",
       "      <td>False</td>\n",
       "      <td>False</td>\n",
       "      <td>False</td>\n",
       "      <td>True</td>\n",
       "      <td>False</td>\n",
       "      <td>False</td>\n",
       "      <td>True</td>\n",
       "      <td>False</td>\n",
       "      <td>False</td>\n",
       "      <td>False</td>\n",
       "      <td>False</td>\n",
       "      <td>False</td>\n",
       "      <td>False</td>\n",
       "      <td>False</td>\n",
       "      <td>False</td>\n",
       "      <td>False</td>\n",
       "      <td>False</td>\n",
       "    </tr>\n",
       "    <tr>\n",
       "      <th>141</th>\n",
       "      <td>44.0</td>\n",
       "      <td>4034.0</td>\n",
       "      <td>1</td>\n",
       "      <td>False</td>\n",
       "      <td>True</td>\n",
       "      <td>False</td>\n",
       "      <td>False</td>\n",
       "      <td>False</td>\n",
       "      <td>False</td>\n",
       "      <td>False</td>\n",
       "      <td>False</td>\n",
       "      <td>False</td>\n",
       "      <td>True</td>\n",
       "      <td>False</td>\n",
       "      <td>False</td>\n",
       "      <td>False</td>\n",
       "      <td>False</td>\n",
       "      <td>False</td>\n",
       "      <td>False</td>\n",
       "      <td>False</td>\n",
       "    </tr>\n",
       "    <tr>\n",
       "      <th>142</th>\n",
       "      <td>33.0</td>\n",
       "      <td>5034.0</td>\n",
       "      <td>1</td>\n",
       "      <td>False</td>\n",
       "      <td>False</td>\n",
       "      <td>False</td>\n",
       "      <td>True</td>\n",
       "      <td>False</td>\n",
       "      <td>False</td>\n",
       "      <td>False</td>\n",
       "      <td>False</td>\n",
       "      <td>False</td>\n",
       "      <td>False</td>\n",
       "      <td>False</td>\n",
       "      <td>True</td>\n",
       "      <td>False</td>\n",
       "      <td>False</td>\n",
       "      <td>False</td>\n",
       "      <td>False</td>\n",
       "      <td>False</td>\n",
       "    </tr>\n",
       "    <tr>\n",
       "      <th>143</th>\n",
       "      <td>22.0</td>\n",
       "      <td>8202.0</td>\n",
       "      <td>0</td>\n",
       "      <td>False</td>\n",
       "      <td>True</td>\n",
       "      <td>False</td>\n",
       "      <td>False</td>\n",
       "      <td>False</td>\n",
       "      <td>False</td>\n",
       "      <td>False</td>\n",
       "      <td>False</td>\n",
       "      <td>True</td>\n",
       "      <td>False</td>\n",
       "      <td>False</td>\n",
       "      <td>False</td>\n",
       "      <td>False</td>\n",
       "      <td>False</td>\n",
       "      <td>False</td>\n",
       "      <td>False</td>\n",
       "      <td>False</td>\n",
       "    </tr>\n",
       "  </tbody>\n",
       "</table>\n",
       "<p>144 rows × 20 columns</p>\n",
       "</div>"
      ],
      "text/plain": [
       "     employee_age  employee_salary  gender  company_name_Congnizant  \\\n",
       "0            20.0           5000.0       0                    False   \n",
       "1            30.0           5000.0       0                    False   \n",
       "2            35.0           2300.0       0                    False   \n",
       "3            40.0           3000.0       0                    False   \n",
       "4            23.0           4000.0       0                    False   \n",
       "..            ...              ...     ...                      ...   \n",
       "139          22.0           8202.0       0                    False   \n",
       "140          33.0           9024.0       1                    False   \n",
       "141          44.0           4034.0       1                    False   \n",
       "142          33.0           5034.0       1                    False   \n",
       "143          22.0           8202.0       0                    False   \n",
       "\n",
       "     company_name_Infosys  company_name_Infosys Pvt Lmt  company_name_TCS  \\\n",
       "0                   False                         False              True   \n",
       "1                    True                         False             False   \n",
       "2                   False                         False              True   \n",
       "3                    True                         False             False   \n",
       "4                   False                         False              True   \n",
       "..                    ...                           ...               ...   \n",
       "139                 False                          True             False   \n",
       "140                 False                         False              True   \n",
       "141                  True                         False             False   \n",
       "142                 False                         False              True   \n",
       "143                  True                         False             False   \n",
       "\n",
       "     company_name_Tata Consultancy Services  company_name_Unknown  \\\n",
       "0                                     False                 False   \n",
       "1                                     False                 False   \n",
       "2                                     False                 False   \n",
       "3                                     False                 False   \n",
       "4                                     False                 False   \n",
       "..                                      ...                   ...   \n",
       "139                                   False                 False   \n",
       "140                                   False                 False   \n",
       "141                                   False                 False   \n",
       "142                                   False                 False   \n",
       "143                                   False                 False   \n",
       "\n",
       "     work_location_Calcutta  work_location_Chennai  work_location_Cochin  \\\n",
       "0                     False                   True                 False   \n",
       "1                     False                  False                 False   \n",
       "2                      True                  False                 False   \n",
       "3                     False                  False                 False   \n",
       "4                     False                  False                 False   \n",
       "..                      ...                    ...                   ...   \n",
       "139                   False                  False                 False   \n",
       "140                    True                  False                 False   \n",
       "141                   False                  False                 False   \n",
       "142                   False                  False                 False   \n",
       "143                   False                  False                  True   \n",
       "\n",
       "     work_location_Delhi  work_location_Hyderabad  work_location_Mumbai  \\\n",
       "0                  False                    False                 False   \n",
       "1                  False                    False                  True   \n",
       "2                  False                    False                 False   \n",
       "3                   True                    False                 False   \n",
       "4                  False                    False                  True   \n",
       "..                   ...                      ...                   ...   \n",
       "139                False                    False                  True   \n",
       "140                False                    False                 False   \n",
       "141                 True                    False                 False   \n",
       "142                False                    False                  True   \n",
       "143                False                    False                 False   \n",
       "\n",
       "     work_location_Nagpur  work_location_Noida  work_location_Podicherry  \\\n",
       "0                   False                False                     False   \n",
       "1                   False                False                     False   \n",
       "2                   False                False                     False   \n",
       "3                   False                False                     False   \n",
       "4                   False                False                     False   \n",
       "..                    ...                  ...                       ...   \n",
       "139                 False                False                     False   \n",
       "140                 False                False                     False   \n",
       "141                 False                False                     False   \n",
       "142                 False                False                     False   \n",
       "143                 False                False                     False   \n",
       "\n",
       "     work_location_Pune  work_location_Unknown  \n",
       "0                 False                  False  \n",
       "1                 False                  False  \n",
       "2                 False                  False  \n",
       "3                 False                  False  \n",
       "4                 False                  False  \n",
       "..                  ...                    ...  \n",
       "139               False                  False  \n",
       "140               False                  False  \n",
       "141               False                  False  \n",
       "142               False                  False  \n",
       "143               False                  False  \n",
       "\n",
       "[144 rows x 20 columns]"
      ]
     },
     "execution_count": 120,
     "metadata": {},
     "output_type": "execute_result"
    }
   ],
   "source": [
    "df"
   ]
  },
  {
   "cell_type": "code",
   "execution_count": 122,
   "id": "bf4cd03b-2cf2-4340-b9a9-f5963def2b45",
   "metadata": {},
   "outputs": [],
   "source": [
    "from sklearn.preprocessing import LabelEncoder\n",
    "le = LabelEncoder()\n",
    "df['gender'] = le.fit_transform(df['gender'])  "
   ]
  },
  {
   "cell_type": "code",
   "execution_count": 126,
   "id": "73ad2b29-0802-45ae-94ba-8eb3c5eb1ba0",
   "metadata": {},
   "outputs": [
    {
     "data": {
      "text/html": [
       "<div>\n",
       "<style scoped>\n",
       "    .dataframe tbody tr th:only-of-type {\n",
       "        vertical-align: middle;\n",
       "    }\n",
       "\n",
       "    .dataframe tbody tr th {\n",
       "        vertical-align: top;\n",
       "    }\n",
       "\n",
       "    .dataframe thead th {\n",
       "        text-align: right;\n",
       "    }\n",
       "</style>\n",
       "<table border=\"1\" class=\"dataframe\">\n",
       "  <thead>\n",
       "    <tr style=\"text-align: right;\">\n",
       "      <th></th>\n",
       "      <th>employee_age</th>\n",
       "      <th>employee_salary</th>\n",
       "      <th>gender</th>\n",
       "      <th>company_name_Congnizant</th>\n",
       "      <th>company_name_Infosys</th>\n",
       "      <th>company_name_Infosys Pvt Lmt</th>\n",
       "      <th>company_name_TCS</th>\n",
       "      <th>company_name_Tata Consultancy Services</th>\n",
       "      <th>company_name_Unknown</th>\n",
       "      <th>work_location_Calcutta</th>\n",
       "      <th>work_location_Chennai</th>\n",
       "      <th>work_location_Cochin</th>\n",
       "      <th>work_location_Delhi</th>\n",
       "      <th>work_location_Hyderabad</th>\n",
       "      <th>work_location_Mumbai</th>\n",
       "      <th>work_location_Nagpur</th>\n",
       "      <th>work_location_Noida</th>\n",
       "      <th>work_location_Podicherry</th>\n",
       "      <th>work_location_Pune</th>\n",
       "      <th>work_location_Unknown</th>\n",
       "    </tr>\n",
       "  </thead>\n",
       "  <tbody>\n",
       "    <tr>\n",
       "      <th>0</th>\n",
       "      <td>20.0</td>\n",
       "      <td>5000.0</td>\n",
       "      <td>0</td>\n",
       "      <td>False</td>\n",
       "      <td>False</td>\n",
       "      <td>False</td>\n",
       "      <td>True</td>\n",
       "      <td>False</td>\n",
       "      <td>False</td>\n",
       "      <td>False</td>\n",
       "      <td>True</td>\n",
       "      <td>False</td>\n",
       "      <td>False</td>\n",
       "      <td>False</td>\n",
       "      <td>False</td>\n",
       "      <td>False</td>\n",
       "      <td>False</td>\n",
       "      <td>False</td>\n",
       "      <td>False</td>\n",
       "      <td>False</td>\n",
       "    </tr>\n",
       "    <tr>\n",
       "      <th>1</th>\n",
       "      <td>30.0</td>\n",
       "      <td>5000.0</td>\n",
       "      <td>0</td>\n",
       "      <td>False</td>\n",
       "      <td>True</td>\n",
       "      <td>False</td>\n",
       "      <td>False</td>\n",
       "      <td>False</td>\n",
       "      <td>False</td>\n",
       "      <td>False</td>\n",
       "      <td>False</td>\n",
       "      <td>False</td>\n",
       "      <td>False</td>\n",
       "      <td>False</td>\n",
       "      <td>True</td>\n",
       "      <td>False</td>\n",
       "      <td>False</td>\n",
       "      <td>False</td>\n",
       "      <td>False</td>\n",
       "      <td>False</td>\n",
       "    </tr>\n",
       "    <tr>\n",
       "      <th>2</th>\n",
       "      <td>35.0</td>\n",
       "      <td>2300.0</td>\n",
       "      <td>0</td>\n",
       "      <td>False</td>\n",
       "      <td>False</td>\n",
       "      <td>False</td>\n",
       "      <td>True</td>\n",
       "      <td>False</td>\n",
       "      <td>False</td>\n",
       "      <td>True</td>\n",
       "      <td>False</td>\n",
       "      <td>False</td>\n",
       "      <td>False</td>\n",
       "      <td>False</td>\n",
       "      <td>False</td>\n",
       "      <td>False</td>\n",
       "      <td>False</td>\n",
       "      <td>False</td>\n",
       "      <td>False</td>\n",
       "      <td>False</td>\n",
       "    </tr>\n",
       "    <tr>\n",
       "      <th>3</th>\n",
       "      <td>40.0</td>\n",
       "      <td>3000.0</td>\n",
       "      <td>0</td>\n",
       "      <td>False</td>\n",
       "      <td>True</td>\n",
       "      <td>False</td>\n",
       "      <td>False</td>\n",
       "      <td>False</td>\n",
       "      <td>False</td>\n",
       "      <td>False</td>\n",
       "      <td>False</td>\n",
       "      <td>False</td>\n",
       "      <td>True</td>\n",
       "      <td>False</td>\n",
       "      <td>False</td>\n",
       "      <td>False</td>\n",
       "      <td>False</td>\n",
       "      <td>False</td>\n",
       "      <td>False</td>\n",
       "      <td>False</td>\n",
       "    </tr>\n",
       "    <tr>\n",
       "      <th>4</th>\n",
       "      <td>23.0</td>\n",
       "      <td>4000.0</td>\n",
       "      <td>0</td>\n",
       "      <td>False</td>\n",
       "      <td>False</td>\n",
       "      <td>False</td>\n",
       "      <td>True</td>\n",
       "      <td>False</td>\n",
       "      <td>False</td>\n",
       "      <td>False</td>\n",
       "      <td>False</td>\n",
       "      <td>False</td>\n",
       "      <td>False</td>\n",
       "      <td>False</td>\n",
       "      <td>True</td>\n",
       "      <td>False</td>\n",
       "      <td>False</td>\n",
       "      <td>False</td>\n",
       "      <td>False</td>\n",
       "      <td>False</td>\n",
       "    </tr>\n",
       "  </tbody>\n",
       "</table>\n",
       "</div>"
      ],
      "text/plain": [
       "   employee_age  employee_salary  gender  company_name_Congnizant  \\\n",
       "0          20.0           5000.0       0                    False   \n",
       "1          30.0           5000.0       0                    False   \n",
       "2          35.0           2300.0       0                    False   \n",
       "3          40.0           3000.0       0                    False   \n",
       "4          23.0           4000.0       0                    False   \n",
       "\n",
       "   company_name_Infosys  company_name_Infosys Pvt Lmt  company_name_TCS  \\\n",
       "0                 False                         False              True   \n",
       "1                  True                         False             False   \n",
       "2                 False                         False              True   \n",
       "3                  True                         False             False   \n",
       "4                 False                         False              True   \n",
       "\n",
       "   company_name_Tata Consultancy Services  company_name_Unknown  \\\n",
       "0                                   False                 False   \n",
       "1                                   False                 False   \n",
       "2                                   False                 False   \n",
       "3                                   False                 False   \n",
       "4                                   False                 False   \n",
       "\n",
       "   work_location_Calcutta  work_location_Chennai  work_location_Cochin  \\\n",
       "0                   False                   True                 False   \n",
       "1                   False                  False                 False   \n",
       "2                    True                  False                 False   \n",
       "3                   False                  False                 False   \n",
       "4                   False                  False                 False   \n",
       "\n",
       "   work_location_Delhi  work_location_Hyderabad  work_location_Mumbai  \\\n",
       "0                False                    False                 False   \n",
       "1                False                    False                  True   \n",
       "2                False                    False                 False   \n",
       "3                 True                    False                 False   \n",
       "4                False                    False                  True   \n",
       "\n",
       "   work_location_Nagpur  work_location_Noida  work_location_Podicherry  \\\n",
       "0                 False                False                     False   \n",
       "1                 False                False                     False   \n",
       "2                 False                False                     False   \n",
       "3                 False                False                     False   \n",
       "4                 False                False                     False   \n",
       "\n",
       "   work_location_Pune  work_location_Unknown  \n",
       "0               False                  False  \n",
       "1               False                  False  \n",
       "2               False                  False  \n",
       "3               False                  False  \n",
       "4               False                  False  "
      ]
     },
     "execution_count": 126,
     "metadata": {},
     "output_type": "execute_result"
    }
   ],
   "source": [
    "df.head()"
   ]
  },
  {
   "cell_type": "code",
   "execution_count": 128,
   "id": "0190600e-c781-44a7-a499-8215ecf32e5a",
   "metadata": {},
   "outputs": [
    {
     "name": "stdout",
     "output_type": "stream",
     "text": [
      "<class 'pandas.core.frame.DataFrame'>\n",
      "RangeIndex: 144 entries, 0 to 143\n",
      "Data columns (total 20 columns):\n",
      " #   Column                                  Non-Null Count  Dtype  \n",
      "---  ------                                  --------------  -----  \n",
      " 0   employee_age                            144 non-null    float64\n",
      " 1   employee_salary                         144 non-null    float64\n",
      " 2   gender                                  144 non-null    int64  \n",
      " 3   company_name_Congnizant                 144 non-null    bool   \n",
      " 4   company_name_Infosys                    144 non-null    bool   \n",
      " 5   company_name_Infosys Pvt Lmt            144 non-null    bool   \n",
      " 6   company_name_TCS                        144 non-null    bool   \n",
      " 7   company_name_Tata Consultancy Services  144 non-null    bool   \n",
      " 8   company_name_Unknown                    144 non-null    bool   \n",
      " 9   work_location_Calcutta                  144 non-null    bool   \n",
      " 10  work_location_Chennai                   144 non-null    bool   \n",
      " 11  work_location_Cochin                    144 non-null    bool   \n",
      " 12  work_location_Delhi                     144 non-null    bool   \n",
      " 13  work_location_Hyderabad                 144 non-null    bool   \n",
      " 14  work_location_Mumbai                    144 non-null    bool   \n",
      " 15  work_location_Nagpur                    144 non-null    bool   \n",
      " 16  work_location_Noida                     144 non-null    bool   \n",
      " 17  work_location_Podicherry                144 non-null    bool   \n",
      " 18  work_location_Pune                      144 non-null    bool   \n",
      " 19  work_location_Unknown                   144 non-null    bool   \n",
      "dtypes: bool(17), float64(2), int64(1)\n",
      "memory usage: 5.9 KB\n"
     ]
    }
   ],
   "source": [
    "df.info()"
   ]
  },
  {
   "cell_type": "markdown",
   "id": "213be28a-0283-4229-ae36-1b26b344cde1",
   "metadata": {},
   "source": [
    "### Feature scaling"
   ]
  },
  {
   "cell_type": "code",
   "execution_count": 131,
   "id": "64d7b7ef-d454-4f34-be34-af0e8286ef39",
   "metadata": {},
   "outputs": [
    {
     "name": "stdout",
     "output_type": "stream",
     "text": [
      "Numerical Columns to Scale: ['employee_age', 'employee_salary', 'gender']\n"
     ]
    }
   ],
   "source": [
    "numerical_cols = df.select_dtypes(include=['int64', 'float64']).columns.tolist()\n",
    "print(\"Numerical Columns to Scale:\", numerical_cols)"
   ]
  },
  {
   "cell_type": "code",
   "execution_count": 133,
   "id": "c33aafb1-d82d-4d7c-95d4-d1067de29c44",
   "metadata": {},
   "outputs": [
    {
     "name": "stdout",
     "output_type": "stream",
     "text": [
      "   employee_age  employee_salary    gender  company_name_Congnizant  \\\n",
      "0     -1.484676        -0.100827 -0.534522                    False   \n",
      "1     -0.267174        -0.100827 -0.534522                    False   \n",
      "2      0.341577        -1.243735 -0.534522                    False   \n",
      "3      0.950328        -0.947426 -0.534522                    False   \n",
      "4     -1.119426        -0.524127 -0.534522                    False   \n",
      "\n",
      "   company_name_Infosys  company_name_Infosys Pvt Lmt  company_name_TCS  \\\n",
      "0                 False                         False              True   \n",
      "1                  True                         False             False   \n",
      "2                 False                         False              True   \n",
      "3                  True                         False             False   \n",
      "4                 False                         False              True   \n",
      "\n",
      "   company_name_Tata Consultancy Services  company_name_Unknown  \\\n",
      "0                                   False                 False   \n",
      "1                                   False                 False   \n",
      "2                                   False                 False   \n",
      "3                                   False                 False   \n",
      "4                                   False                 False   \n",
      "\n",
      "   work_location_Calcutta  work_location_Chennai  work_location_Cochin  \\\n",
      "0                   False                   True                 False   \n",
      "1                   False                  False                 False   \n",
      "2                    True                  False                 False   \n",
      "3                   False                  False                 False   \n",
      "4                   False                  False                 False   \n",
      "\n",
      "   work_location_Delhi  work_location_Hyderabad  work_location_Mumbai  \\\n",
      "0                False                    False                 False   \n",
      "1                False                    False                  True   \n",
      "2                False                    False                 False   \n",
      "3                 True                    False                 False   \n",
      "4                False                    False                  True   \n",
      "\n",
      "   work_location_Nagpur  work_location_Noida  work_location_Podicherry  \\\n",
      "0                 False                False                     False   \n",
      "1                 False                False                     False   \n",
      "2                 False                False                     False   \n",
      "3                 False                False                     False   \n",
      "4                 False                False                     False   \n",
      "\n",
      "   work_location_Pune  work_location_Unknown  \n",
      "0               False                  False  \n",
      "1               False                  False  \n",
      "2               False                  False  \n",
      "3               False                  False  \n",
      "4               False                  False  \n"
     ]
    }
   ],
   "source": [
    "from sklearn.preprocessing import StandardScaler\n",
    "scaler = StandardScaler()\n",
    "df_standardized = df.copy()\n",
    "df_standardized[numerical_cols] = scaler.fit_transform(df[numerical_cols])\n",
    "print(df_standardized.head())"
   ]
  },
  {
   "cell_type": "code",
   "execution_count": 135,
   "id": "4f742282-d5c8-42c4-a42d-0f8822aa051c",
   "metadata": {},
   "outputs": [
    {
     "name": "stdout",
     "output_type": "stream",
     "text": [
      "   employee_age  employee_salary  gender  company_name_Congnizant  \\\n",
      "0      0.081081         0.445089     0.0                    False   \n",
      "1      0.351351         0.445089     0.0                    False   \n",
      "2      0.486486         0.137817     0.0                    False   \n",
      "3      0.621622         0.217480     0.0                    False   \n",
      "4      0.162162         0.331285     0.0                    False   \n",
      "\n",
      "   company_name_Infosys  company_name_Infosys Pvt Lmt  company_name_TCS  \\\n",
      "0                 False                         False              True   \n",
      "1                  True                         False             False   \n",
      "2                 False                         False              True   \n",
      "3                  True                         False             False   \n",
      "4                 False                         False              True   \n",
      "\n",
      "   company_name_Tata Consultancy Services  company_name_Unknown  \\\n",
      "0                                   False                 False   \n",
      "1                                   False                 False   \n",
      "2                                   False                 False   \n",
      "3                                   False                 False   \n",
      "4                                   False                 False   \n",
      "\n",
      "   work_location_Calcutta  work_location_Chennai  work_location_Cochin  \\\n",
      "0                   False                   True                 False   \n",
      "1                   False                  False                 False   \n",
      "2                    True                  False                 False   \n",
      "3                   False                  False                 False   \n",
      "4                   False                  False                 False   \n",
      "\n",
      "   work_location_Delhi  work_location_Hyderabad  work_location_Mumbai  \\\n",
      "0                False                    False                 False   \n",
      "1                False                    False                  True   \n",
      "2                False                    False                 False   \n",
      "3                 True                    False                 False   \n",
      "4                False                    False                  True   \n",
      "\n",
      "   work_location_Nagpur  work_location_Noida  work_location_Podicherry  \\\n",
      "0                 False                False                     False   \n",
      "1                 False                False                     False   \n",
      "2                 False                False                     False   \n",
      "3                 False                False                     False   \n",
      "4                 False                False                     False   \n",
      "\n",
      "   work_location_Pune  work_location_Unknown  \n",
      "0               False                  False  \n",
      "1               False                  False  \n",
      "2               False                  False  \n",
      "3               False                  False  \n",
      "4               False                  False  \n"
     ]
    }
   ],
   "source": [
    "from sklearn.preprocessing import MinMaxScaler\n",
    "minmax_scaler = MinMaxScaler()\n",
    "df_minmax = df.copy()\n",
    "df_minmax[numerical_cols] = minmax_scaler.fit_transform(df[numerical_cols])\n",
    "print(df_minmax.head())"
   ]
  },
  {
   "cell_type": "code",
   "execution_count": null,
   "id": "cfe27982-2630-4366-8f51-21c99cecb5a6",
   "metadata": {},
   "outputs": [],
   "source": []
  }
 ],
 "metadata": {
  "kernelspec": {
   "display_name": "Python [conda env:base] *",
   "language": "python",
   "name": "conda-base-py"
  },
  "language_info": {
   "codemirror_mode": {
    "name": "ipython",
    "version": 3
   },
   "file_extension": ".py",
   "mimetype": "text/x-python",
   "name": "python",
   "nbconvert_exporter": "python",
   "pygments_lexer": "ipython3",
   "version": "3.12.7"
  }
 },
 "nbformat": 4,
 "nbformat_minor": 5
}
