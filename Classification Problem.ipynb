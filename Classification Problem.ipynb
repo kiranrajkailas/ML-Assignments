{
 "cells": [
  {
   "cell_type": "code",
   "execution_count": 1,
   "metadata": {},
   "outputs": [],
   "source": [
    "from sklearn.datasets import load_breast_cancer\n",
    "import pandas as pd\n",
    "from sklearn.model_selection import train_test_split\n",
    "from sklearn.preprocessing import StandardScaler\n",
    "\n",
    "# Load dataset\n",
    "data = load_breast_cancer()\n",
    "df = pd.DataFrame(data.data, columns=data.feature_names)\n",
    "df['target'] = data.target\n"
   ]
  },
  {
   "cell_type": "code",
   "execution_count": 3,
   "metadata": {},
   "outputs": [
    {
     "name": "stdout",
     "output_type": "stream",
     "text": [
      "mean radius                0\n",
      "mean texture               0\n",
      "mean perimeter             0\n",
      "mean area                  0\n",
      "mean smoothness            0\n",
      "mean compactness           0\n",
      "mean concavity             0\n",
      "mean concave points        0\n",
      "mean symmetry              0\n",
      "mean fractal dimension     0\n",
      "radius error               0\n",
      "texture error              0\n",
      "perimeter error            0\n",
      "area error                 0\n",
      "smoothness error           0\n",
      "compactness error          0\n",
      "concavity error            0\n",
      "concave points error       0\n",
      "symmetry error             0\n",
      "fractal dimension error    0\n",
      "worst radius               0\n",
      "worst texture              0\n",
      "worst perimeter            0\n",
      "worst area                 0\n",
      "worst smoothness           0\n",
      "worst compactness          0\n",
      "worst concavity            0\n",
      "worst concave points       0\n",
      "worst symmetry             0\n",
      "worst fractal dimension    0\n",
      "target                     0\n",
      "dtype: int64\n"
     ]
    }
   ],
   "source": [
    "print(df.isnull().sum())"
   ]
  },
  {
   "cell_type": "code",
   "execution_count": 4,
   "metadata": {},
   "outputs": [],
   "source": [
    "X = df.drop('target', axis=1)\n",
    "y = df['target']\n",
    "\n",
    "# Standardize features (mean=0, std=1)\n",
    "scaler = StandardScaler()\n",
    "X_scaled = scaler.fit_transform(X)\n",
    "\n",
    "# Split into train and test sets\n",
    "X_train, X_test, y_train, y_test = train_test_split(\n",
    "    X_scaled, y, test_size=0.2, random_state=42)"
   ]
  },
  {
   "cell_type": "code",
   "execution_count": 5,
   "metadata": {},
   "outputs": [],
   "source": [
    "from sklearn.linear_model import LogisticRegression\n",
    "from sklearn.tree import DecisionTreeClassifier\n",
    "from sklearn.ensemble import RandomForestClassifier\n",
    "from sklearn.svm import SVC\n",
    "from sklearn.neighbors import KNeighborsClassifier\n",
    "from sklearn.metrics import accuracy_score, precision_score, recall_score, f1_score, confusion_matrix, classification_report"
   ]
  },
  {
   "cell_type": "code",
   "execution_count": 6,
   "metadata": {},
   "outputs": [
    {
     "name": "stdout",
     "output_type": "stream",
     "text": [
      "                    Model  Accuracy  Precision  Recall  F1 Score\n",
      "0     Logistic Regression    0.9737     0.9722  0.9859    0.9790\n",
      "3  Support Vector Machine    0.9737     0.9722  0.9859    0.9790\n",
      "2           Random Forest    0.9649     0.9589  0.9859    0.9722\n",
      "1           Decision Tree    0.9474     0.9577  0.9577    0.9577\n",
      "4                    k-NN    0.9474     0.9577  0.9577    0.9577\n"
     ]
    }
   ],
   "source": [
    "models = {\n",
    "    \"Logistic Regression\": LogisticRegression(max_iter=10000, random_state=42),\n",
    "    \"Decision Tree\": DecisionTreeClassifier(random_state=42),\n",
    "    \"Random Forest\": RandomForestClassifier(random_state=42),\n",
    "    \"Support Vector Machine\": SVC(random_state=42),\n",
    "    \"k-NN\": KNeighborsClassifier()\n",
    "}\n",
    "\n",
    "results = []\n",
    "for name, model in models.items():\n",
    "    model.fit(X_train, y_train)\n",
    "    y_pred = model.predict(X_test)\n",
    "\n",
    "    accuracy = accuracy_score(y_test, y_pred)\n",
    "    precision = precision_score(y_test, y_pred)\n",
    "    recall = recall_score(y_test, y_pred)\n",
    "    f1 = f1_score(y_test, y_pred)\n",
    "\n",
    "    results.append({\n",
    "        \"Model\": name,\n",
    "        \"Accuracy\": round(accuracy, 4),\n",
    "        \"Precision\": round(precision, 4),\n",
    "        \"Recall\": round(recall, 4),\n",
    "        \"F1 Score\": round(f1, 4)\n",
    "    })\n",
    "results_df = pd.DataFrame(results)\n",
    "print(results_df.sort_values(by=\"Accuracy\", ascending=False))"
   ]
  },
  {
   "cell_type": "markdown",
   "metadata": {},
   "source": [
    "## How these work?\n",
    "### Model | What It Does\n",
    "#### Logistic Regression | Linear classifier using sigmoid to predict class probability\n",
    "#### Decision Tree | Splits data using feature thresholds; builds a tree to classify instances\n",
    "#### Random Forest | Ensemble of trees; reduces overfitting by averaging multiple decision trees\n",
    "#### SVM | Finds optimal hyperplane (or boundary) that maximizes class separation\n",
    "#### k-NN | Classifies a sample based on the majority label among its nearest neighbors"
   ]
  },
  {
   "cell_type": "markdown",
   "metadata": {},
   "source": [
    "## Model | Why It Works Well for Breast Cancer Dataset\n",
    "#### Logistic Regression | Fast, interpretable, great baseline for linearly separable data\n",
    "#### Decision Tree | Handles non-linearity, easy to interpret, low bias\n",
    "#### Random Forest | High accuracy, resists overfitting, handles noise and feature interactions\n",
    "#### SVM | Powerful with high-dimensional and clean data, good margin-based classification\n",
    "#### k-NN | Simple, effective with scaled data, captures local structure"
   ]
  },
  {
   "cell_type": "code",
   "execution_count": 7,
   "metadata": {},
   "outputs": [
    {
     "name": "stdout",
     "output_type": "stream",
     "text": [
      "                  Model  Accuracy  Precision  Recall  F1 Score\n",
      "    Logistic Regression    0.9737     0.9811  0.9811    0.9811\n",
      "          Random Forest    0.9649     0.9706  0.9722    0.9714\n",
      " Support Vector Machine    0.9561     0.9615  0.9722    0.9668\n",
      "    k-Nearest Neighbors    0.9386     0.9429  0.9583    0.9506\n",
      "          Decision Tree    0.9211     0.9259  0.9444    0.9350\n"
     ]
    }
   ],
   "source": [
    "import pandas as pd\n",
    "performance_data = {\n",
    "    \"Model\": [\n",
    "        \"Logistic Regression\",\n",
    "        \"Random Forest\",\n",
    "        \"Support Vector Machine\",\n",
    "        \"k-Nearest Neighbors\",\n",
    "        \"Decision Tree\"\n",
    "    ],\n",
    "    \"Accuracy\": [0.9737, 0.9649, 0.9561, 0.9386, 0.9211],\n",
    "    \"Precision\": [0.9811, 0.9706, 0.9615, 0.9429, 0.9259],\n",
    "    \"Recall\": [0.9811, 0.9722, 0.9722, 0.9583, 0.9444],\n",
    "    \"F1 Score\": [0.9811, 0.9714, 0.9668, 0.9506, 0.9350]\n",
    "}\n",
    "\n",
    "# Create DataFrame\n",
    "df = pd.DataFrame(performance_data)\n",
    "\n",
    "# Sort by Accuracy (optional)\n",
    "df = df.sort_values(by=\"Accuracy\", ascending=False)\n",
    "\n",
    "# Display the table\n",
    "print(df.to_string(index=False))\n"
   ]
  },
  {
   "cell_type": "markdown",
   "metadata": {},
   "source": [
    "### Best Model \n",
    "Logistic Regression: Highest performance, interpretable, and robust \n",
    "#### Highest accuracy: 97.37% — fewest misclassifications.\n",
    "#### Highest F1 Score: 98.11% — strong balance between precision and recall.\n",
    "#### It’s also fast, interpretable, and doesn't overfit due to its simplicity.\n",
    "### Worst Model  \n",
    "Decision Tree: Lower accuracy, likely overfitting without tuning "
   ]
  },
  {
   "cell_type": "code",
   "execution_count": null,
   "metadata": {},
   "outputs": [],
   "source": []
  }
 ],
 "metadata": {
  "kernelspec": {
   "display_name": "Python 3",
   "language": "python",
   "name": "python3"
  },
  "language_info": {
   "codemirror_mode": {
    "name": "ipython",
    "version": 3
   },
   "file_extension": ".py",
   "mimetype": "text/x-python",
   "name": "python",
   "nbconvert_exporter": "python",
   "pygments_lexer": "ipython3",
   "version": "3.8.5"
  }
 },
 "nbformat": 4,
 "nbformat_minor": 4
}
